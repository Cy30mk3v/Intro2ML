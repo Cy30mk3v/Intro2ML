{
 "cells": [
  {
   "cell_type": "code",
   "execution_count": 5,
   "metadata": {},
   "outputs": [],
   "source": [
    "import numpy as np\n",
    "from scipy.stats import norm\n",
    "import math"
   ]
  },
  {
   "cell_type": "code",
   "execution_count": 6,
   "metadata": {},
   "outputs": [
    {
     "name": "stdout",
     "output_type": "stream",
     "text": [
      "5.5890978734875325e-06\n",
      "-19.594692666023363\n"
     ]
    }
   ],
   "source": [
    "def prob1(μ, σ, D):\n",
    "    r = 1\n",
    "    for x in D:\n",
    "        r*= norm(μ,σ).pdf(x)\n",
    "    return r\n",
    "def prob2(μ, σ, D):\n",
    "    r = 0\n",
    "    for x in D:\n",
    "        r+= math.log(norm(μ,σ).pdf(x))\n",
    "    return r\n",
    "μ1 = 0\n",
    "σ1 = 1\n",
    "μ2=3\n",
    "σ2=1\n",
    "D=[1,0,2,-1,3]\n",
    "\n",
    "print(prob1(μ1,σ1,D))\n",
    "print(prob2(μ2,σ2,D))"
   ]
  },
  {
   "cell_type": "code",
   "execution_count": 14,
   "metadata": {},
   "outputs": [
    {
     "name": "stdout",
     "output_type": "stream",
     "text": [
      "0.9998766054240137\n",
      "-45.841266556099114\n"
     ]
    }
   ],
   "source": [
    "def logistics(s):\n",
    "    return 1/(1+np.exp(-s))\n",
    "\n",
    "#First idea run for single data\n",
    "def probLogistics(w0, w1, x):\n",
    "    s = w0 +w1*x\n",
    "    return logistics(s)\n",
    "\n",
    "def probLogistics_twovar(w0, w1, x,y):\n",
    "    if y == 1:\n",
    "        return probLogistics(w0,w1,x)\n",
    "    else:\n",
    "        return 1 -probLogistics(w0,w1,x)\n",
    "\n",
    "#Probability with Logistic Regression\n",
    "w0 = 1\n",
    "w1 = 2\n",
    "x=4\n",
    "#Second idea\n",
    "def probLogisticsSet(w0,w1,X, y):\n",
    "    s = 0\n",
    "    for i in range(len(X)):\n",
    "        s+=math.log(probLogistics_twovar(w0,w1,X[i],y[i]))\n",
    "    return s\n",
    "\n",
    "X = np.array([0.50, 0.75, 1.00, 1.25, 1.50, 1.75, 1.75, 2.00, 2.25, 2.50, \n",
    "              2.75, 3.00, 3.25, 3.50, 4.00, 4.25, 4.50, 4.75, 5.00, 5.50])\n",
    "y = np.array([0, 0, 0, 0, 0, 0, 1, 0, 1, 0, 1, 0, 1, 0, 1, 1, 1, 1, 1, 1])\n",
    "print(probLogistics(w0,w1,x))\n",
    "print(probLogisticsSet(w0,w1,X,y))"
   ]
  },
  {
   "cell_type": "code",
   "execution_count": null,
   "metadata": {},
   "outputs": [],
   "source": []
  }
 ],
 "metadata": {
  "kernelspec": {
   "display_name": "Python 3",
   "language": "python",
   "name": "python3"
  },
  "language_info": {
   "codemirror_mode": {
    "name": "ipython",
    "version": 3
   },
   "file_extension": ".py",
   "mimetype": "text/x-python",
   "name": "python",
   "nbconvert_exporter": "python",
   "pygments_lexer": "ipython3",
   "version": "3.7.6"
  }
 },
 "nbformat": 4,
 "nbformat_minor": 4
}
